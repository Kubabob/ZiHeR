{
 "cells": [
  {
   "cell_type": "code",
   "execution_count": 12,
   "metadata": {},
   "outputs": [],
   "source": [
    "from selenium import webdriver\n",
    "from selenium.webdriver.common.by import By"
   ]
  },
  {
   "cell_type": "code",
   "execution_count": 18,
   "metadata": {},
   "outputs": [],
   "source": [
    "options = webdriver.ChromeOptions()\n",
    "options.add_argument('headless')\n",
    "browser = webdriver.Chrome(options=options)\n",
    "browser.implicitly_wait(0.5)\n",
    "browser.get('https://ziher.zhr.pl/pomorze/')\n",
    "email = browser.find_element(by=By.ID, value='user_email')\n",
    "email.send_keys(xxx)\n",
    "haslo = browser.find_element(by=By.ID, value='user_password')\n",
    "haslo.send_keys(xxx)\n",
    "logowanie = browser.find_element(by=By.NAME, value='commit')\n",
    "logowanie.click()\n",
    "\n",
    "browser.get_screenshot_as_file(\"capture.png\")\n",
    "browser.quit()\n"
   ]
  }
 ],
 "metadata": {
  "kernelspec": {
   "display_name": "Python 3",
   "language": "python",
   "name": "python3"
  },
  "language_info": {
   "codemirror_mode": {
    "name": "ipython",
    "version": 3
   },
   "file_extension": ".py",
   "mimetype": "text/x-python",
   "name": "python",
   "nbconvert_exporter": "python",
   "pygments_lexer": "ipython3",
   "version": "3.12.2"
  }
 },
 "nbformat": 4,
 "nbformat_minor": 2
}
