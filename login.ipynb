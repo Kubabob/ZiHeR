{
 "cells": [
  {
   "cell_type": "code",
   "execution_count": 1,
   "metadata": {},
   "outputs": [],
   "source": [
    "import requests as req"
   ]
  },
  {
   "cell_type": "code",
   "execution_count": 21,
   "metadata": {},
   "outputs": [],
   "source": [
    "login =xxx\n",
    "haslo = xxx\n",
    "url = 'https://ziher.zhr.pl/pomorze/'"
   ]
  },
  {
   "cell_type": "code",
   "execution_count": 26,
   "metadata": {},
   "outputs": [
    {
     "name": "stdout",
     "output_type": "stream",
     "text": [
      "403\n"
     ]
    }
   ],
   "source": [
    "html = req.get(url)\n",
    "print(html.status_code)"
   ]
  },
  {
   "cell_type": "code",
   "execution_count": 29,
   "metadata": {},
   "outputs": [],
   "source": [
    "import cloudscraper"
   ]
  },
  {
   "cell_type": "code",
   "execution_count": 48,
   "metadata": {},
   "outputs": [
    {
     "name": "stdout",
     "output_type": "stream",
     "text": [
      "<!DOCTYPE html>\n",
      "<html>\n",
      "<head>\n",
      "<title>ZiHeR / Pomorze</title>\n",
      "<link rel=\"stylesheet\" media=\"screen\" href=\"/pomorze/assets/application-14c7157e9e29de2e7f82c678f9f3e33ab4873fa1e214060a57349433e41068a4.css\" />\n",
      "<script src=\"/pomorze/assets/application-9f7b6acf7a62d75e790a1c48471c0cba97a4a064e0d0e4d55c681fa0fcacffcb.js\"></script>\n",
      "<meta name=\"csrf-param\" content=\"authenticity_token\" />\n",
      "<meta name=\"csrf-token\" content=\"LuuUQNVQ59dWanmGurrsVNEY1z6yy+28SG+n4ecaApg8kCPGxW+XDO5Y+wkLzyQgkeMi7d3YGEdazaSg806WEA==\" />\n",
      "</head>\n",
      "<body>\n",
      "<div class=\"container\" style=\"width: 1400px;\">\n",
      "<div class=\"navbar navbar-default\" id=\"navbar\">\n",
      "<div class=\"navbar-brand\"><a href=\"/pomorze/\"> <span class=\"glyphicon glyphicon-home\"></span> ZiHeR / Pomorze</a></div>\n",
      "<ul class=\"nav navbar-nav\">\n",
      "</ul>\n",
      "</div>\n",
      "<div class=\"alert alert-danger\">\n",
      "<a class=\"close\" data-dismiss=\"alert\">&#215;</a>\n",
      "<div id=\"flash_alert\">Aby kontynuować zaloguj lub zarejestruj się.</div>\n",
      "</div>\n",
      "<div class=\"row\">\n",
      "<div class=\"col-md-3 col-md-offset-4\">\n",
      "<form class=\"form-horizontal\" id=\"new_user\" action=\"/pomorze/users/sign_in\" accept-charset=\"UTF-8\" method=\"post\"><input name=\"utf8\" type=\"hidden\" value=\"&#x2713;\" /><input type=\"hidden\" name=\"authenticity_token\" value=\"2VCyRfSxZSWYBdJ2IhXJJUnCUzihKFqtfAii1Qk11a4xZV7p9Z4OAcCyQ7ZqcHg+tv/asZqJSpQhaRWpcEzDxw==\" />\n",
      "<div class=\"form-group\">\n",
      "<input placeholder=\"E-mail\" class=\"form-control\" type=\"email\" value name=\"user[email]\" id=\"user_email\" />\n",
      "</div>\n",
      "<div class=\"form-group\">\n",
      "<input placeholder=\"Hasło\" class=\"form-control\" type=\"password\" name=\"user[password]\" id=\"user_password\" />\n",
      "</div>\n",
      "<div class=\"form-group\">\n",
      "<input name=\"user[remember_me]\" type=\"hidden\" value=\"0\" /><input type=\"checkbox\" value=\"1\" name=\"user[remember_me]\" id=\"user_remember_me\" />\n",
      "<label class=\"checkbox-inline\" for=\"user_remember_me\">Zapamiętaj</label>\n",
      "<input type=\"submit\" name=\"commit\" value=\"Zaloguj się\" class=\"btn btn-success pull-right\" data-disable-with=\"Zaloguj się\" />\n",
      "</div>\n",
      "<div class=\"form-group\" style=\"margin-top: 60px\">\n",
      "<a href=\"/pomorze/users/password/new\">Nie pamiętam hasła</a><br/>\n",
      "<a href=\"/pomorze/users/confirmation/new\">Ponownie wyślij e-mail potwierdzający</a><br/>\n",
      "</div>\n",
      "</form> </div>\n",
      "</div>\n",
      "<br/>\n",
      "<div class=\"well well-small\" style=\"margin-top: 60px\">\n",
      "<div class=\"row\">\n",
      "<div class=\"col-md-4 text-left\">\n",
      "<b><a href=\"https://ziher.zhr.pl/pomorze/\">ZiHeR / Pomorze</a></b> - wersja <a href=\"https://github.com/ziher/ziher/commits/102676b\">2023.04.06</a>\n",
      "</div>\n",
      "<div class=\"col-md-4 text-center\">\n",
      "<a href=\"http://www.zhr.pl\">Związek Harcerstwa Rzeczypospolitej</a>\n",
      "</div>\n",
      "<div class=\"col-md-4 text-right\">\n",
      "Kontakt: <b><a href=\"/cdn-cgi/l/email-protection#0a7063626f784a706278247a66\"><span class=\"__cf_email__\" data-cfemail=\"c0baa9a8a5b280baa8b2eeb0ac\">[email&#160;protected]</span></a></b>\n",
      "</div>\n",
      "</div>\n",
      "</div>\n",
      "</div>\n",
      "<script data-cfasync=\"false\" src=\"/cdn-cgi/scripts/5c5dd728/cloudflare-static/email-decode.min.js\"></script><script>(function(){if (!document.body) return;var js = \"window['__CF$cv$params']={r:'879fb4cc4d9cfbc2',t:'MTcxNDA2MjUwNi45NzAwMDA='};_cpo=document.createElement('script');_cpo.nonce='',_cpo.src='/cdn-cgi/challenge-platform/scripts/jsd/main.js',document.getElementsByTagName('head')[0].appendChild(_cpo);\";var _0xh = document.createElement('iframe');_0xh.height = 1;_0xh.width = 1;_0xh.style.position = 'absolute';_0xh.style.top = 0;_0xh.style.left = 0;_0xh.style.border = 'none';_0xh.style.visibility = 'hidden';document.body.appendChild(_0xh);function handler() {var _0xi = _0xh.contentDocument || _0xh.contentWindow.document;if (_0xi) {var _0xj = _0xi.createElement('script');_0xj.innerHTML = js;_0xi.getElementsByTagName('head')[0].appendChild(_0xj);}}if (document.readyState !== 'loading') {handler();} else if (window.addEventListener) {document.addEventListener('DOMContentLoaded', handler);} else {var prev = document.onreadystatechange || function () {};document.onreadystatechange = function (e) {prev(e);if (document.readyState !== 'loading') {document.onreadystatechange = prev;handler();}};}})();</script><script defer src=\"https://static.cloudflareinsights.com/beacon.min.js/v55bfa2fee65d44688e90c00735ed189a1713218998793\" integrity=\"sha512-FIKRFRxgD20moAo96hkZQy/5QojZDAbyx0mQ17jEGHCJc/vi0G2HXLtofwD7Q3NmivvP9at5EVgbRqOaOQb+Rg==\" data-cf-beacon='{\"rayId\":\"879fb4cc4d9cfbc2\",\"version\":\"2024.4.0\",\"token\":\"4c12306bae84497681cb23b6fe90e116\"}' crossorigin=\"anonymous\"></script>\n",
      "</body>\n",
      "</html>\n",
      "\n"
     ]
    }
   ],
   "source": [
    "session = req.session()\n",
    "scraper = cloudscraper.create_scraper()\n",
    "html = scraper.get(url)\n",
    "print(html.text)"
   ]
  },
  {
   "cell_type": "code",
   "execution_count": 57,
   "metadata": {},
   "outputs": [
    {
     "name": "stdout",
     "output_type": "stream",
     "text": [
      "422\n"
     ]
    }
   ],
   "source": [
    "data = {\n",
    "    'email': login,\n",
    "    'password': haslo\n",
    "    #'content_type': 'application/x-www-form-urlencoded'\n",
    "}\n",
    "\n",
    "headers = {\n",
    "    'user-agent': 'Mozilla/5.0 (Windows NT 10.0; Win64; x64) AppleWebKit/537.36 (KHTML, like Gecko) Chrome/121.0.0.0 Safari/537.36 OPR/107.0.0.0',\n",
    "    'Content-Type': 'text/html; charset=utf-8'#'application/x-www-form-urlencoded'\n",
    "}\n",
    "\n",
    "polaczenie = scraper.post('https://ziher.zhr.pl/pomorze/users/sign_in', data, headers=headers)\n",
    "\n",
    "print(polaczenie.status_code)"
   ]
  },
  {
   "cell_type": "code",
   "execution_count": 24,
   "metadata": {},
   "outputs": [],
   "source": [
    "import urllib3\n",
    "from bs4 import BeautifulSoup"
   ]
  },
  {
   "cell_type": "code",
   "execution_count": 25,
   "metadata": {},
   "outputs": [
    {
     "name": "stdout",
     "output_type": "stream",
     "text": [
      "<!DOCTYPE html>\n",
      "\n",
      "<!--[if lt IE 7]> <html class=\"no-js ie6 oldie\" lang=\"en-US\"> <![endif]-->\n",
      "<!--[if IE 7]>    <html class=\"no-js ie7 oldie\" lang=\"en-US\"> <![endif]-->\n",
      "<!--[if IE 8]>    <html class=\"no-js ie8 oldie\" lang=\"en-US\"> <![endif]-->\n",
      "<!--[if gt IE 8]><!--> <html class=\"no-js\" lang=\"en-US\"> <!--<![endif]-->\n",
      "<head>\n",
      "<title>Attention Required! | Cloudflare</title>\n",
      "<meta charset=\"utf-8\"/>\n",
      "<meta content=\"text/html; charset=utf-8\" http-equiv=\"Content-Type\"/>\n",
      "<meta content=\"IE=Edge\" http-equiv=\"X-UA-Compatible\"/>\n",
      "<meta content=\"noindex, nofollow\" name=\"robots\"/>\n",
      "<meta content=\"width=device-width,initial-scale=1\" name=\"viewport\"/>\n",
      "<link href=\"/cdn-cgi/styles/cf.errors.css\" id=\"cf_styles-css\" rel=\"stylesheet\"/>\n",
      "<!--[if lt IE 9]><link rel=\"stylesheet\" id='cf_styles-ie-css' href=\"/cdn-cgi/styles/cf.errors.ie.css\" /><![endif]-->\n",
      "<style>body{margin:0;padding:0}</style>\n",
      "<!--[if gte IE 10]><!-->\n",
      "<script>\n",
      "  if (!navigator.cookieEnabled) {\n",
      "    window.addEventListener('DOMContentLoaded', function () {\n",
      "      var cookieEl = document.getElementById('cookie-alert');\n",
      "      cookieEl.style.display = 'block';\n",
      "    })\n",
      "  }\n",
      "</script>\n",
      "<!--<![endif]-->\n",
      "</head>\n",
      "<body>\n",
      "<div id=\"cf-wrapper\">\n",
      "<div class=\"cf-alert cf-alert-error cf-cookie-error\" data-translate=\"enable_cookies\" id=\"cookie-alert\">Please enable cookies.</div>\n",
      "<div class=\"cf-error-details-wrapper\" id=\"cf-error-details\">\n",
      "<div class=\"cf-wrapper cf-header cf-error-overview\">\n",
      "<h1 data-translate=\"block_headline\">Sorry, you have been blocked</h1>\n",
      "<h2 class=\"cf-subheadline\"><span data-translate=\"unable_to_access\">You are unable to access</span> zhr.pl</h2>\n",
      "</div><!-- /.header -->\n",
      "<div class=\"cf-section cf-highlight\">\n",
      "<div class=\"cf-wrapper\">\n",
      "<div class=\"cf-screenshot-container cf-screenshot-full\">\n",
      "<span class=\"cf-no-screenshot error\"></span>\n",
      "</div>\n",
      "</div>\n",
      "</div><!-- /.captcha-container -->\n",
      "<div class=\"cf-section cf-wrapper\">\n",
      "<div class=\"cf-columns two\">\n",
      "<div class=\"cf-column\">\n",
      "<h2 data-translate=\"blocked_why_headline\">Why have I been blocked?</h2>\n",
      "<p data-translate=\"blocked_why_detail\">This website is using a security service to protect itself from online attacks. The action you just performed triggered the security solution. There are several actions that could trigger this block including submitting a certain word or phrase, a SQL command or malformed data.</p>\n",
      "</div>\n",
      "<div class=\"cf-column\">\n",
      "<h2 data-translate=\"blocked_resolve_headline\">What can I do to resolve this?</h2>\n",
      "<p data-translate=\"blocked_resolve_detail\">You can email the site owner to let them know you were blocked. Please include what you were doing when this page came up and the Cloudflare Ray ID found at the bottom of this page.</p>\n",
      "</div>\n",
      "</div>\n",
      "</div><!-- /.section -->\n",
      "<div class=\"cf-error-footer cf-wrapper w-240 lg:w-full py-10 sm:py-4 sm:px-8 mx-auto text-center sm:text-left border-solid border-0 border-t border-gray-300\">\n",
      "<p class=\"text-13\">\n",
      "<span class=\"cf-footer-item sm:block sm:mb-1\">Cloudflare Ray ID: <strong class=\"font-semibold\">879f8f89ad093bc3</strong></span>\n",
      "<span class=\"cf-footer-separator sm:hidden\">•</span>\n",
      "<span class=\"cf-footer-item hidden sm:block sm:mb-1\" id=\"cf-footer-item-ip\">\n",
      "      Your IP:\n",
      "      <button class=\"cf-footer-ip-reveal-btn\" id=\"cf-footer-ip-reveal\" type=\"button\">Click to reveal</button>\n",
      "<span class=\"hidden\" id=\"cf-footer-ip\">89.64.20.44</span>\n",
      "<span class=\"cf-footer-separator sm:hidden\">•</span>\n",
      "</span>\n",
      "<span class=\"cf-footer-item sm:block sm:mb-1\"><span>Performance &amp; security by</span> <a href=\"https://www.cloudflare.com/5xx-error-landing\" id=\"brand_link\" rel=\"noopener noreferrer\" target=\"_blank\">Cloudflare</a></span>\n",
      "</p>\n",
      "<script>(function(){function d(){var b=a.getElementById(\"cf-footer-item-ip\"),c=a.getElementById(\"cf-footer-ip-reveal\");b&&\"classList\"in b&&(b.classList.remove(\"hidden\"),c.addEventListener(\"click\",function(){c.classList.add(\"hidden\");a.getElementById(\"cf-footer-ip\").classList.remove(\"hidden\")}))}var a=document;document.addEventListener&&a.addEventListener(\"DOMContentLoaded\",d)})();</script>\n",
      "</div><!-- /.error-footer -->\n",
      "</div><!-- /#cf-error-details -->\n",
      "</div><!-- /#cf-wrapper -->\n",
      "<script>\n",
      "  window._cf_translation = {};\n",
      "  \n",
      "  \n",
      "</script>\n",
      "<script>(function(){if (!document.body) return;var js = \"window['__CF$cv$params']={r:'879f8f89ad093bc3',t:'MTcxNDA2MDk4MC43NTMwMDA='};_cpo=document.createElement('script');_cpo.nonce='',_cpo.src='/cdn-cgi/challenge-platform/scripts/jsd/main.js',document.getElementsByTagName('head')[0].appendChild(_cpo);\";var _0xh = document.createElement('iframe');_0xh.height = 1;_0xh.width = 1;_0xh.style.position = 'absolute';_0xh.style.top = 0;_0xh.style.left = 0;_0xh.style.border = 'none';_0xh.style.visibility = 'hidden';document.body.appendChild(_0xh);function handler() {var _0xi = _0xh.contentDocument || _0xh.contentWindow.document;if (_0xi) {var _0xj = _0xi.createElement('script');_0xj.innerHTML = js;_0xi.getElementsByTagName('head')[0].appendChild(_0xj);}}if (document.readyState !== 'loading') {handler();} else if (window.addEventListener) {document.addEventListener('DOMContentLoaded', handler);} else {var prev = document.onreadystatechange || function () {};document.onreadystatechange = function (e) {prev(e);if (document.readyState !== 'loading') {document.onreadystatechange = prev;handler();}};}})();</script></body>\n",
      "</html>\n",
      "\n"
     ]
    }
   ],
   "source": [
    "opener = urllib3.PoolManager()\n",
    "\n",
    "response = opener.request('GET', url)\n",
    "soup = BeautifulSoup(response.data)\n",
    "print(soup)"
   ]
  }
 ],
 "metadata": {
  "kernelspec": {
   "display_name": "Python 3",
   "language": "python",
   "name": "python3"
  },
  "language_info": {
   "codemirror_mode": {
    "name": "ipython",
    "version": 3
   },
   "file_extension": ".py",
   "mimetype": "text/x-python",
   "name": "python",
   "nbconvert_exporter": "python",
   "pygments_lexer": "ipython3",
   "version": "3.10.12"
  }
 },
 "nbformat": 4,
 "nbformat_minor": 2
}
